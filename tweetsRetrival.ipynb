{
 "metadata": {
  "language_info": {
   "codemirror_mode": {
    "name": "ipython",
    "version": 3
   },
   "file_extension": ".py",
   "mimetype": "text/x-python",
   "name": "python",
   "nbconvert_exporter": "python",
   "pygments_lexer": "ipython3",
   "version": "3.6.10-final"
  },
  "orig_nbformat": 2,
  "kernelspec": {
   "name": "Python 3.6.10 64-bit",
   "display_name": "Python 3.6.10 64-bit",
   "metadata": {
    "interpreter": {
     "hash": "8aa8f1568b76895711a2d690aab17e3f48ee6e4caedd5072180724dcc169c1ad"
    }
   }
  }
 },
 "nbformat": 4,
 "nbformat_minor": 2,
 "cells": [
  {
   "cell_type": "code",
   "execution_count": 126,
   "metadata": {},
   "outputs": [],
   "source": [
    "import json\n",
    "import csv\n",
    "import tweepy\n",
    "import pandas as pd\n",
    "import re\n",
    "import datetime"
   ]
  },
  {
   "cell_type": "code",
   "execution_count": 138,
   "metadata": {},
   "outputs": [],
   "source": [
    "consumer_key = 'NUNTlZl37UI7K5BMrfkJurIot'\n",
    "consumer_secret = 'jpKXllW8eRZy9gw0QlFkuJjQTEJUYxNTjsRs9dgmnFe2z71ezH'\n",
    "access_token = '362931442-CCFvMRh1pJf5F7hOmHYzc0uX7JHG88doZDOoSmve'\n",
    "access_token_secret = 'TvPT7Ahu3PdxvmAhmqFwgGVQSV15q7UIzncPCRFYOXhPI'\n",
    "\n",
    "auth = tweepy.OAuthHandler(consumer_key, consumer_secret)\n",
    "auth.set_access_token(access_token, access_token_secret)\n",
    "#initialize Tweepy API\n",
    "api = tweepy.API(auth)\n",
    "\n",
    "tweet_list=[]"
   ]
  },
  {
   "cell_type": "code",
   "execution_count": 156,
   "metadata": {
    "tags": []
   },
   "outputs": [
    {
     "output_type": "stream",
     "name": "stdout",
     "text": "2020-10-06 18:37:35.352921\nTotal Tweets Retrived Feminist Movement 900\n"
    }
   ],
   "source": [
    "def Find(string): \n",
    "    # findall() has been used  \n",
    "    # with valid conditions for urls in string \n",
    "    regex = r\"(?i)\\b((?:https?://|www\\d{0,3}[.]|[a-z0-9.\\-]+[.][a-z]{2,4}/)(?:[^\\s()<>]+|\\(([^\\s()<>]+|(\\([^\\s()<>]+\\)))*\\))+(?:\\(([^\\s()<>]+|(\\([^\\s()<>]+\\)))*\\)|[^\\s`!()\\[\\]{};:'\\\".,<>?«»“”‘’]))\"\n",
    "    url = re.findall(regex,string)       \n",
    "    return [x[0] for x in url] \n",
    "\n",
    "def tweetsRetrive(hashtag_phrase):\n",
    "    count = 0\n",
    "         \n",
    "    for tweet in tweepy.Cursor(api.search, q=hashtag_phrase+' -filter:retweets',lang=\"en\", tweet_mode='extended').items(900):\n",
    "        #arr = Find(str(tweet.full_text.replace('\\n',' ').encode('utf-8')))\n",
    "        #if(len(arr) == 0):\n",
    "        tweet_list.append([\n",
    "            tweet.created_at, \n",
    "            tweet.full_text.replace('\\n',' ').encode('utf-8'),\n",
    "            'Feminist Movement',\n",
    "        ])\n",
    "        count=count+1\n",
    "    print(datetime.datetime.now())\n",
    "    print(\"Total Tweets Retrived\",hashtag_phrase, count)\n",
    "\n",
    "tweetsTag = ['Feminist Movement']\n",
    "#'Hillary Clinton', 'Legalization of Abortion', 'Atheism', 'Climate Change is a Real Concern', 'Feminist Movement'\n",
    "for tag in tweetsTag:\n",
    "    tweetsRetrive(tag)"
   ]
  },
  {
   "cell_type": "code",
   "execution_count": 157,
   "metadata": {},
   "outputs": [
    {
     "output_type": "execute_result",
     "data": {
      "text/plain": "4729"
     },
     "metadata": {},
     "execution_count": 157
    }
   ],
   "source": [
    "len(tweet_list)"
   ]
  },
  {
   "cell_type": "code",
   "execution_count": 158,
   "metadata": {},
   "outputs": [
    {
     "output_type": "execute_result",
     "data": {
      "text/plain": "                       0                                                  1  \\\n0    2020-10-06 06:21:44  b&quot;Jacob Jeremiah Sullivan is an American polic...   \n1    2020-10-06 06:21:40  b&#39;Weird all I remember about @MayorSchieve is ...   \n2    2020-10-06 06:20:41  b&quot;Hunter Biden who was paid $1 Billion by Chin...   \n3    2020-10-06 06:20:23  b&#39;@elvia_espi @thebr0keb0i I think it became i...   \n4    2020-10-06 06:19:37  b&#39;Crazy how JFK Jr. should\\xe2\\x80\\x99ve been ...   \n...                  ...                                                ...   \n4724 2020-09-30 12:15:27  b&#39;Fela was a rebel, a revolutionary and one of...   \n4725 2020-09-30 12:08:25  b&#39;@EngenderScot Where? Show us where men have ...   \n4726 2020-09-30 11:29:23  b&#39;FARE-THE-WELL HELEN REDDY, a voice for the f...   \n4727 2020-09-30 11:19:14  b&#39;@Henriettaspoon I don\\xe2\\x80\\x99t believe a...   \n4728 2020-09-30 11:04:46  b&#39;\\xe2\\x80\\x98 I am woman hear me roar\\xe2\\x80...   \n\n                      2  \n0       Hillary Clinton  \n1       Hillary Clinton  \n2       Hillary Clinton  \n3       Hillary Clinton  \n4       Hillary Clinton  \n...                 ...  \n4724  Feminist Movement  \n4725  Feminist Movement  \n4726  Feminist Movement  \n4727  Feminist Movement  \n4728  Feminist Movement  \n\n[4729 rows x 3 columns]",
      "text/html": "<div>\n<style scoped>\n    .dataframe tbody tr th:only-of-type {\n        vertical-align: middle;\n    }\n\n    .dataframe tbody tr th {\n        vertical-align: top;\n    }\n\n    .dataframe thead th {\n        text-align: right;\n    }\n</style>\n<table border=\"1\" class=\"dataframe\">\n  <thead>\n    <tr style=\"text-align: right;\">\n      <th></th>\n      <th>0</th>\n      <th>1</th>\n      <th>2</th>\n    </tr>\n  </thead>\n  <tbody>\n    <tr>\n      <th>0</th>\n      <td>2020-10-06 06:21:44</td>\n      <td>b\"Jacob Jeremiah Sullivan is an American polic...</td>\n      <td>Hillary Clinton</td>\n    </tr>\n    <tr>\n      <th>1</th>\n      <td>2020-10-06 06:21:40</td>\n      <td>b'Weird all I remember about @MayorSchieve is ...</td>\n      <td>Hillary Clinton</td>\n    </tr>\n    <tr>\n      <th>2</th>\n      <td>2020-10-06 06:20:41</td>\n      <td>b\"Hunter Biden who was paid $1 Billion by Chin...</td>\n      <td>Hillary Clinton</td>\n    </tr>\n    <tr>\n      <th>3</th>\n      <td>2020-10-06 06:20:23</td>\n      <td>b'@elvia_espi @thebr0keb0i I think it became i...</td>\n      <td>Hillary Clinton</td>\n    </tr>\n    <tr>\n      <th>4</th>\n      <td>2020-10-06 06:19:37</td>\n      <td>b'Crazy how JFK Jr. should\\xe2\\x80\\x99ve been ...</td>\n      <td>Hillary Clinton</td>\n    </tr>\n    <tr>\n      <th>...</th>\n      <td>...</td>\n      <td>...</td>\n      <td>...</td>\n    </tr>\n    <tr>\n      <th>4724</th>\n      <td>2020-09-30 12:15:27</td>\n      <td>b'Fela was a rebel, a revolutionary and one of...</td>\n      <td>Feminist Movement</td>\n    </tr>\n    <tr>\n      <th>4725</th>\n      <td>2020-09-30 12:08:25</td>\n      <td>b'@EngenderScot Where? Show us where men have ...</td>\n      <td>Feminist Movement</td>\n    </tr>\n    <tr>\n      <th>4726</th>\n      <td>2020-09-30 11:29:23</td>\n      <td>b'FARE-THE-WELL HELEN REDDY, a voice for the f...</td>\n      <td>Feminist Movement</td>\n    </tr>\n    <tr>\n      <th>4727</th>\n      <td>2020-09-30 11:19:14</td>\n      <td>b'@Henriettaspoon I don\\xe2\\x80\\x99t believe a...</td>\n      <td>Feminist Movement</td>\n    </tr>\n    <tr>\n      <th>4728</th>\n      <td>2020-09-30 11:04:46</td>\n      <td>b'\\xe2\\x80\\x98 I am woman hear me roar\\xe2\\x80...</td>\n      <td>Feminist Movement</td>\n    </tr>\n  </tbody>\n</table>\n<p>4729 rows × 3 columns</p>\n</div>"
     },
     "metadata": {},
     "execution_count": 158
    }
   ],
   "source": [
    "df = pd.DataFrame()\n",
    "df = df.append(tweet_list)\n",
    "df = df.rename(columns = {'0': 'Timestamp', '1': 'Tweet', '2': 'Target'})\n",
    "df"
   ]
  },
  {
   "cell_type": "code",
   "execution_count": 159,
   "metadata": {},
   "outputs": [],
   "source": [
    "df.to_csv(\"TweetsRetrived.csv\", sep=',', encoding='utf-8')"
   ]
  },
  {
   "cell_type": "code",
   "execution_count": null,
   "metadata": {},
   "outputs": [],
   "source": []
  }
 ]
}